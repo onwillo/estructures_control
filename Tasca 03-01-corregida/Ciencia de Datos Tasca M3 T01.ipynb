{
 "cells": [
  {
   "cell_type": "markdown",
   "id": "fba3a245",
   "metadata": {},
   "source": [
    "Crea una funció que donat un Array d’una dimensió, et faci un resum estadístic bàsic de les dades. Si detecta que l’array té més d’una dimensió, ha de mostrar un missatge d’error."
   ]
  },
  {
   "cell_type": "code",
   "execution_count": 4,
   "id": "53a55800",
   "metadata": {},
   "outputs": [
    {
     "name": "stdout",
     "output_type": "stream",
     "text": [
      "{'màximo': 5, 'mínimo': 1, 'promedio': 3.0, 'mediana': 3.0, 'desviacion estandar': 1.4142135623730951}\n"
     ]
    }
   ],
   "source": [
    "import numpy as np\n",
    "\n",
    "def calcular(array):\n",
    "    if array.ndim != 1:\n",
    "        print(\"Error: El array debe de ser de una dimension\")\n",
    "        return None\n",
    "\n",
    "    # calculos basicos estadisticos\n",
    "    resum = {\n",
    "        'màximo': np.max(array),\n",
    "        'mínimo': np.min(array),\n",
    "        'promedio': np.mean(array),\n",
    "        'mediana': np.median(array),\n",
    "        'desviacion estandar': np.std(array)\n",
    "    }\n",
    "    return resum\n",
    "\n",
    "array = np.array([1, 2, 3, 4, 5])\n",
    "resum = calcular(array)\n",
    "print(resum)"
   ]
  },
  {
   "cell_type": "markdown",
   "id": "a75956dc",
   "metadata": {},
   "source": [
    "Crea una funció que et generi un quadrat NxN de nombres aleatoris entre el 0 i el 100."
   ]
  },
  {
   "cell_type": "code",
   "execution_count": 5,
   "id": "fae59da6",
   "metadata": {},
   "outputs": [
    {
     "name": "stdout",
     "output_type": "stream",
     "text": [
      "[[11 57 42 62 97]\n",
      " [17 53 43 75 58]\n",
      " [91 50 32 82  1]\n",
      " [ 4 66 51 98 15]\n",
      " [63 46 46 86 63]]\n"
     ]
    }
   ],
   "source": [
    "import numpy as np\n",
    "\n",
    "def generar(N):\n",
    "    cuadrado = np.random.randint(0, 100, size=(N, N))\n",
    "    return cuadrado\n",
    "\n",
    "cuadrado_aleatorio = generar(5)\n",
    "print(cuadrado_aleatorio)"
   ]
  },
  {
   "cell_type": "markdown",
   "id": "693d57e0",
   "metadata": {},
   "source": [
    "Crea una función que dada una tabla de dos dimensiones (NxM), te calcule los totales por fila y los totales por columna."
   ]
  },
  {
   "cell_type": "code",
   "execution_count": 7,
   "id": "edb34c3b",
   "metadata": {},
   "outputs": [
    {
     "name": "stdout",
     "output_type": "stream",
     "text": [
      "{'total_fila': array([ 6, 15, 24]), 'total_columna': array([12, 15, 18])}\n"
     ]
    }
   ],
   "source": [
    "import numpy as np\n",
    "\n",
    "def calcular(matriz):\n",
    "    total_fila = np.sum(matriz, axis=1)\n",
    "    total_columna = np.sum(matriz, axis=0)\n",
    "\n",
    "    return {'total_fila': total_fila, 'total_columna': total_columna}\n",
    "\n",
    "matriz = np.array([[1, 2, 3], [4, 5, 6], [7, 8, 9]])\n",
    "totales = calcular(matriz)\n",
    "print(totales)"
   ]
  },
  {
   "cell_type": "markdown",
   "id": "6b19812b",
   "metadata": {},
   "source": [
    "Implementa manualmente una función que calcule el coeficiente de correlación. Infórmate sobre sus usos e interpretación"
   ]
  },
  {
   "cell_type": "code",
   "execution_count": 3,
   "id": "186e7dad",
   "metadata": {},
   "outputs": [
    {
     "data": {
      "image/png": "[encoded data removed]",
      "text/plain": [
       "<Figure size 640x480 with 1 Axes>"
      ]
     },
     "metadata": {},
     "output_type": "display_data"
    }
   ],
   "source": [
    "import numpy as np\n",
    "import matplotlib.pyplot as plt\n",
    "import seaborn as sns\n",
    "\n",
    "def correlation_and_plot(x, y):\n",
    "    # formula para calcular la correlacion\n",
    "    corr = np.corrcoef(x, y)[0,1]\n",
    "    \n",
    "    # linea para grafico de dispersion\n",
    "    sns.scatterplot(x=x, y=y)\n",
    "    \n",
    "    # Agregar la línea de regresión y el coeficiente de correlación al gráfico\n",
    "    sns.regplot(x=x, y=y, scatter=False, label=f'Correlación: {corr:.2f}')\n",
    "    \n",
    "    # Configurar los límites de los ejes y mostrar el gráfico\n",
    "    plt.xlim(np.min(x)-1, np.max(x)+1)\n",
    "    plt.ylim(np.min(y)-1, np.max(y)+1)\n",
    "    plt.legend()\n",
    "    plt.show()\n",
    "    \n",
    "    # Generar datos aleatorios\n",
    "x = np.random.randint(0, 10, size=20)\n",
    "y = np.random.randint(0, 10, size=20)\n",
    "\n",
    "# Calcular el coeficiente de correlación y graficar los datos\n",
    "correlation_and_plot(x, y)"
   ]
  },
  {
   "cell_type": "markdown",
   "id": "5872f3df",
   "metadata": {},
   "source": [
    "Para entender mejor el eoficiente de correlacion se hace dentro de un grafico. Por ejemplo creo que es importante segun lo inventigado cuando estamos analizando los datos de un estudio de mercado, muchas veces nos encontramos con la necesidad de saber si entre dos variables de tipo cuantitativo existe algún tipo de relación. Por ejemplo, a la hora de evaluar un producto o un servicio de una compañía, podemos querer saber si existe alguna relación entre la puntuación que se le ha dado a ese producto y el nivel de ingresos. Hay diferentes formas de analizar estos datos, pero una de ellas es comprobar si existe correlación entre esas dos variables. Veo que el concepto es muy amplio para seguir aprendiendo\n",
    "\n"
   ]
  },
  {
   "cell_type": "code",
   "execution_count": null,
   "id": "d4435c9a",
   "metadata": {},
   "outputs": [],
   "source": []
  }
 ],
 "metadata": {
  "kernelspec": {
   "display_name": "Python 3 (ipykernel)",
   "language": "python",
   "name": "python3"
  },
  "language_info": {
   "codemirror_mode": {
    "name": "ipython",
    "version": 3
   },
   "file_extension": ".py",
   "mimetype": "text/x-python",
   "name": "python",
   "nbconvert_exporter": "python",
   "pygments_lexer": "ipython3",
   "version": "3.9.13"
  }
 },
 "nbformat": 4,
 "nbformat_minor": 5
}
